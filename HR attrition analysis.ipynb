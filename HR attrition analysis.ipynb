{
 "cells": [
  {
   "cell_type": "markdown",
   "id": "e7912c7b",
   "metadata": {},
   "source": [
    "# HR analytics : Attrition analysis"
   ]
  },
  {
   "cell_type": "markdown",
   "id": "d0b5865b",
   "metadata": {},
   "source": [
    "The dataset has information about the employees of TATA."
   ]
  },
  {
   "cell_type": "code",
   "execution_count": 3,
   "id": "e55ab2a3",
   "metadata": {},
   "outputs": [],
   "source": [
    "import pandas as pd\n",
    "import numpy as np\n",
    "import matplotlib.pyplot as plt\n",
    "import seaborn as sns"
   ]
  },
  {
   "cell_type": "code",
   "execution_count": 4,
   "id": "e19bb63c",
   "metadata": {},
   "outputs": [],
   "source": [
    "#Importing the dataset\n",
    "df=pd.read_excel(\"B:\\\\Semester 2\\\\HR ANALYTICS\\\\Final assignment\\\\Attrition of Last Three Years - TISS (1).xls\")"
   ]
  },
  {
   "cell_type": "code",
   "execution_count": 38,
   "id": "60e28e4b",
   "metadata": {},
   "outputs": [
    {
     "data": {
      "text/html": [
       "<div>\n",
       "<style scoped>\n",
       "    .dataframe tbody tr th:only-of-type {\n",
       "        vertical-align: middle;\n",
       "    }\n",
       "\n",
       "    .dataframe tbody tr th {\n",
       "        vertical-align: top;\n",
       "    }\n",
       "\n",
       "    .dataframe thead th {\n",
       "        text-align: right;\n",
       "    }\n",
       "</style>\n",
       "<table border=\"1\" class=\"dataframe\">\n",
       "  <thead>\n",
       "    <tr style=\"text-align: right;\">\n",
       "      <th></th>\n",
       "      <th>Emp No</th>\n",
       "      <th>HQ</th>\n",
       "      <th>State</th>\n",
       "      <th>Age</th>\n",
       "      <th>DOJ</th>\n",
       "      <th>Date of Resignation</th>\n",
       "      <th>Tenure with Tata</th>\n",
       "      <th>Total Experience</th>\n",
       "      <th>Last Rating</th>\n",
       "      <th>SR Target</th>\n",
       "      <th>SR Ach</th>\n",
       "      <th>Last CTC Drawn</th>\n",
       "      <th>Education Background</th>\n",
       "      <th>New Offer</th>\n",
       "      <th>Unnamed: 14</th>\n",
       "      <th>% Increase</th>\n",
       "    </tr>\n",
       "  </thead>\n",
       "  <tbody>\n",
       "    <tr>\n",
       "      <th>0</th>\n",
       "      <td>709022</td>\n",
       "      <td>Hisar</td>\n",
       "      <td>1</td>\n",
       "      <td>53</td>\n",
       "      <td>2015-05-01</td>\n",
       "      <td>2016-07-20</td>\n",
       "      <td>1.221918</td>\n",
       "      <td>1</td>\n",
       "      <td>3</td>\n",
       "      <td>150.00</td>\n",
       "      <td>175.000000</td>\n",
       "      <td>440042.875969</td>\n",
       "      <td>M.Sc. Agri</td>\n",
       "      <td>6.000000e+05</td>\n",
       "      <td>NaN</td>\n",
       "      <td>0.363503</td>\n",
       "    </tr>\n",
       "    <tr>\n",
       "      <th>1</th>\n",
       "      <td>711246</td>\n",
       "      <td>Kurukshetra</td>\n",
       "      <td>1</td>\n",
       "      <td>37</td>\n",
       "      <td>2016-07-26</td>\n",
       "      <td>2016-12-02</td>\n",
       "      <td>0.353425</td>\n",
       "      <td>11</td>\n",
       "      <td>2</td>\n",
       "      <td>138.41</td>\n",
       "      <td>166.367434</td>\n",
       "      <td>665692.400000</td>\n",
       "      <td>B.Sc. Agri</td>\n",
       "      <td>7.800000e+05</td>\n",
       "      <td>NaN</td>\n",
       "      <td>0.171712</td>\n",
       "    </tr>\n",
       "    <tr>\n",
       "      <th>2</th>\n",
       "      <td>707658</td>\n",
       "      <td>Sirsa</td>\n",
       "      <td>1</td>\n",
       "      <td>44</td>\n",
       "      <td>2014-05-01</td>\n",
       "      <td>2017-05-03</td>\n",
       "      <td>3.008219</td>\n",
       "      <td>9</td>\n",
       "      <td>5</td>\n",
       "      <td>197.19</td>\n",
       "      <td>581.241054</td>\n",
       "      <td>858931.627962</td>\n",
       "      <td>B.Sc. Agri</td>\n",
       "      <td>1.065075e+06</td>\n",
       "      <td>NaN</td>\n",
       "      <td>0.240000</td>\n",
       "    </tr>\n",
       "    <tr>\n",
       "      <th>3</th>\n",
       "      <td>710692</td>\n",
       "      <td>Panipat</td>\n",
       "      <td>1</td>\n",
       "      <td>57</td>\n",
       "      <td>2016-03-10</td>\n",
       "      <td>2017-02-04</td>\n",
       "      <td>0.906849</td>\n",
       "      <td>3</td>\n",
       "      <td>2</td>\n",
       "      <td>127.41</td>\n",
       "      <td>194.590825</td>\n",
       "      <td>411989.200000</td>\n",
       "      <td>B.Sc. Agri</td>\n",
       "      <td>5.108666e+05</td>\n",
       "      <td>NaN</td>\n",
       "      <td>0.240000</td>\n",
       "    </tr>\n",
       "    <tr>\n",
       "      <th>4</th>\n",
       "      <td>709742</td>\n",
       "      <td>Srinagar</td>\n",
       "      <td>2</td>\n",
       "      <td>57</td>\n",
       "      <td>2015-11-09</td>\n",
       "      <td>2016-06-08</td>\n",
       "      <td>0.580822</td>\n",
       "      <td>8</td>\n",
       "      <td>2</td>\n",
       "      <td>181.43</td>\n",
       "      <td>275.971455</td>\n",
       "      <td>529458.000000</td>\n",
       "      <td>B.Sc. Agri</td>\n",
       "      <td>7.570000e+05</td>\n",
       "      <td>NaN</td>\n",
       "      <td>0.429764</td>\n",
       "    </tr>\n",
       "  </tbody>\n",
       "</table>\n",
       "</div>"
      ],
      "text/plain": [
       "   Emp No           HQ  State  Age        DOJ Date of Resignation  \\\n",
       "0  709022        Hisar      1   53 2015-05-01          2016-07-20   \n",
       "1  711246  Kurukshetra      1   37 2016-07-26          2016-12-02   \n",
       "2  707658        Sirsa      1   44 2014-05-01          2017-05-03   \n",
       "3  710692      Panipat      1   57 2016-03-10          2017-02-04   \n",
       "4  709742     Srinagar      2   57 2015-11-09          2016-06-08   \n",
       "\n",
       "   Tenure with Tata  Total Experience  Last Rating  SR Target      SR Ach  \\\n",
       "0          1.221918                 1            3     150.00  175.000000   \n",
       "1          0.353425                11            2     138.41  166.367434   \n",
       "2          3.008219                 9            5     197.19  581.241054   \n",
       "3          0.906849                 3            2     127.41  194.590825   \n",
       "4          0.580822                 8            2     181.43  275.971455   \n",
       "\n",
       "   Last CTC Drawn Education Background     New Offer  Unnamed: 14  % Increase  \n",
       "0   440042.875969           M.Sc. Agri  6.000000e+05          NaN    0.363503  \n",
       "1   665692.400000           B.Sc. Agri  7.800000e+05          NaN    0.171712  \n",
       "2   858931.627962           B.Sc. Agri  1.065075e+06          NaN    0.240000  \n",
       "3   411989.200000           B.Sc. Agri  5.108666e+05          NaN    0.240000  \n",
       "4   529458.000000           B.Sc. Agri  7.570000e+05          NaN    0.429764  "
      ]
     },
     "execution_count": 38,
     "metadata": {},
     "output_type": "execute_result"
    }
   ],
   "source": [
    "df.head()"
   ]
  },
  {
   "cell_type": "code",
   "execution_count": 55,
   "id": "31236012",
   "metadata": {},
   "outputs": [
    {
     "data": {
      "text/plain": [
       "41"
      ]
     },
     "execution_count": 55,
     "metadata": {},
     "output_type": "execute_result"
    }
   ],
   "source": [
    "df['HQ'].nunique()"
   ]
  },
  {
   "cell_type": "markdown",
   "id": "69052401",
   "metadata": {},
   "source": [
    "The data is has information about 41 different HQs."
   ]
  },
  {
   "cell_type": "code",
   "execution_count": 41,
   "id": "c90bd84c",
   "metadata": {},
   "outputs": [
    {
     "data": {
      "text/html": [
       "<div>\n",
       "<style scoped>\n",
       "    .dataframe tbody tr th:only-of-type {\n",
       "        vertical-align: middle;\n",
       "    }\n",
       "\n",
       "    .dataframe tbody tr th {\n",
       "        vertical-align: top;\n",
       "    }\n",
       "\n",
       "    .dataframe thead th {\n",
       "        text-align: right;\n",
       "    }\n",
       "</style>\n",
       "<table border=\"1\" class=\"dataframe\">\n",
       "  <thead>\n",
       "    <tr style=\"text-align: right;\">\n",
       "      <th></th>\n",
       "      <th>Emp No</th>\n",
       "      <th>State</th>\n",
       "      <th>Age</th>\n",
       "      <th>Tenure with Tata</th>\n",
       "      <th>Total Experience</th>\n",
       "      <th>Last Rating</th>\n",
       "      <th>SR Target</th>\n",
       "      <th>SR Ach</th>\n",
       "      <th>Last CTC Drawn</th>\n",
       "      <th>New Offer</th>\n",
       "      <th>Unnamed: 14</th>\n",
       "      <th>% Increase</th>\n",
       "    </tr>\n",
       "  </thead>\n",
       "  <tbody>\n",
       "    <tr>\n",
       "      <th>count</th>\n",
       "      <td>67.000000</td>\n",
       "      <td>67.000000</td>\n",
       "      <td>67.000000</td>\n",
       "      <td>67.000000</td>\n",
       "      <td>67.000000</td>\n",
       "      <td>67.000000</td>\n",
       "      <td>64.000000</td>\n",
       "      <td>64.000000</td>\n",
       "      <td>6.700000e+01</td>\n",
       "      <td>6.700000e+01</td>\n",
       "      <td>0.0</td>\n",
       "      <td>67.000000</td>\n",
       "    </tr>\n",
       "    <tr>\n",
       "      <th>mean</th>\n",
       "      <td>699173.880597</td>\n",
       "      <td>3.626866</td>\n",
       "      <td>33.283582</td>\n",
       "      <td>2.455522</td>\n",
       "      <td>4.119403</td>\n",
       "      <td>2.701493</td>\n",
       "      <td>301.702342</td>\n",
       "      <td>314.235984</td>\n",
       "      <td>6.578304e+05</td>\n",
       "      <td>8.377698e+05</td>\n",
       "      <td>NaN</td>\n",
       "      <td>0.281653</td>\n",
       "    </tr>\n",
       "    <tr>\n",
       "      <th>std</th>\n",
       "      <td>59578.368759</td>\n",
       "      <td>1.412453</td>\n",
       "      <td>10.689567</td>\n",
       "      <td>2.900094</td>\n",
       "      <td>3.755894</td>\n",
       "      <td>0.778789</td>\n",
       "      <td>504.731269</td>\n",
       "      <td>632.517900</td>\n",
       "      <td>3.677201e+05</td>\n",
       "      <td>4.557929e+05</td>\n",
       "      <td>NaN</td>\n",
       "      <td>0.068722</td>\n",
       "    </tr>\n",
       "    <tr>\n",
       "      <th>min</th>\n",
       "      <td>362059.000000</td>\n",
       "      <td>1.000000</td>\n",
       "      <td>23.000000</td>\n",
       "      <td>0.161644</td>\n",
       "      <td>0.000000</td>\n",
       "      <td>1.000000</td>\n",
       "      <td>0.600000</td>\n",
       "      <td>0.230000</td>\n",
       "      <td>3.239353e+05</td>\n",
       "      <td>4.049191e+05</td>\n",
       "      <td>NaN</td>\n",
       "      <td>0.171712</td>\n",
       "    </tr>\n",
       "    <tr>\n",
       "      <th>25%</th>\n",
       "      <td>707938.000000</td>\n",
       "      <td>3.000000</td>\n",
       "      <td>26.000000</td>\n",
       "      <td>0.613699</td>\n",
       "      <td>1.000000</td>\n",
       "      <td>2.000000</td>\n",
       "      <td>68.919272</td>\n",
       "      <td>60.513846</td>\n",
       "      <td>4.378281e+05</td>\n",
       "      <td>5.543846e+05</td>\n",
       "      <td>NaN</td>\n",
       "      <td>0.245000</td>\n",
       "    </tr>\n",
       "    <tr>\n",
       "      <th>50%</th>\n",
       "      <td>710692.000000</td>\n",
       "      <td>4.000000</td>\n",
       "      <td>29.000000</td>\n",
       "      <td>1.037272</td>\n",
       "      <td>3.000000</td>\n",
       "      <td>3.000000</td>\n",
       "      <td>140.718794</td>\n",
       "      <td>145.806288</td>\n",
       "      <td>5.526580e+05</td>\n",
       "      <td>7.450000e+05</td>\n",
       "      <td>NaN</td>\n",
       "      <td>0.250000</td>\n",
       "    </tr>\n",
       "    <tr>\n",
       "      <th>75%</th>\n",
       "      <td>711686.500000</td>\n",
       "      <td>5.000000</td>\n",
       "      <td>36.500000</td>\n",
       "      <td>3.161644</td>\n",
       "      <td>6.500000</td>\n",
       "      <td>3.000000</td>\n",
       "      <td>247.035000</td>\n",
       "      <td>220.937527</td>\n",
       "      <td>7.163101e+05</td>\n",
       "      <td>8.939006e+05</td>\n",
       "      <td>NaN</td>\n",
       "      <td>0.297968</td>\n",
       "    </tr>\n",
       "    <tr>\n",
       "      <th>max</th>\n",
       "      <td>713145.000000</td>\n",
       "      <td>5.000000</td>\n",
       "      <td>59.000000</td>\n",
       "      <td>14.175342</td>\n",
       "      <td>18.000000</td>\n",
       "      <td>5.000000</td>\n",
       "      <td>2686.000000</td>\n",
       "      <td>3692.000000</td>\n",
       "      <td>2.396801e+06</td>\n",
       "      <td>2.996001e+06</td>\n",
       "      <td>NaN</td>\n",
       "      <td>0.486493</td>\n",
       "    </tr>\n",
       "  </tbody>\n",
       "</table>\n",
       "</div>"
      ],
      "text/plain": [
       "              Emp No      State        Age  Tenure with Tata  \\\n",
       "count      67.000000  67.000000  67.000000         67.000000   \n",
       "mean   699173.880597   3.626866  33.283582          2.455522   \n",
       "std     59578.368759   1.412453  10.689567          2.900094   \n",
       "min    362059.000000   1.000000  23.000000          0.161644   \n",
       "25%    707938.000000   3.000000  26.000000          0.613699   \n",
       "50%    710692.000000   4.000000  29.000000          1.037272   \n",
       "75%    711686.500000   5.000000  36.500000          3.161644   \n",
       "max    713145.000000   5.000000  59.000000         14.175342   \n",
       "\n",
       "       Total Experience  Last Rating    SR Target       SR Ach  \\\n",
       "count         67.000000    67.000000    64.000000    64.000000   \n",
       "mean           4.119403     2.701493   301.702342   314.235984   \n",
       "std            3.755894     0.778789   504.731269   632.517900   \n",
       "min            0.000000     1.000000     0.600000     0.230000   \n",
       "25%            1.000000     2.000000    68.919272    60.513846   \n",
       "50%            3.000000     3.000000   140.718794   145.806288   \n",
       "75%            6.500000     3.000000   247.035000   220.937527   \n",
       "max           18.000000     5.000000  2686.000000  3692.000000   \n",
       "\n",
       "       Last CTC Drawn     New Offer  Unnamed: 14  % Increase  \n",
       "count    6.700000e+01  6.700000e+01          0.0   67.000000  \n",
       "mean     6.578304e+05  8.377698e+05          NaN    0.281653  \n",
       "std      3.677201e+05  4.557929e+05          NaN    0.068722  \n",
       "min      3.239353e+05  4.049191e+05          NaN    0.171712  \n",
       "25%      4.378281e+05  5.543846e+05          NaN    0.245000  \n",
       "50%      5.526580e+05  7.450000e+05          NaN    0.250000  \n",
       "75%      7.163101e+05  8.939006e+05          NaN    0.297968  \n",
       "max      2.396801e+06  2.996001e+06          NaN    0.486493  "
      ]
     },
     "execution_count": 41,
     "metadata": {},
     "output_type": "execute_result"
    }
   ],
   "source": [
    "df.describe()"
   ]
  },
  {
   "cell_type": "markdown",
   "id": "e3f48c6c",
   "metadata": {},
   "source": [
    "The above code gives the complete description of all the numeric data for the given data frame. \n",
    "\n",
    "Some key insights :\n",
    "-> The median age is 29. This means 50% of the employees who left the company are young adults under 30. So they are exploring   other opportunies or not satisfied with current situation in the companies.\n",
    "-> The median percentage increase in the new CTC is around 25%. So, it is not an amazing offer to leave the company. Their may    be other factors affecting the attrition."
   ]
  },
  {
   "cell_type": "code",
   "execution_count": 42,
   "id": "773512e1",
   "metadata": {},
   "outputs": [
    {
     "data": {
      "text/plain": [
       "Text(0.5, 1.0, 'Histogram')"
      ]
     },
     "execution_count": 42,
     "metadata": {},
     "output_type": "execute_result"
    },
    {
     "data": {
      "image/png": "[encoded data removed]",
      "text/plain": [
       "<Figure size 432x288 with 1 Axes>"
      ]
     },
     "metadata": {
      "needs_background": "light"
     },
     "output_type": "display_data"
    }
   ],
   "source": [
    "# Tenure with the company histogram\n",
    "\n",
    "df['Tenure with Tata'].hist(bins=20)\n",
    "\n",
    "plt.xlabel('Tenure with TATA')\n",
    "plt.ylabel('Frequency')\n",
    "plt.title('Histogram')"
   ]
  },
  {
   "cell_type": "markdown",
   "id": "77b53876",
   "metadata": {},
   "source": [
    "From the above graph, most of the people who left were working with the company under 2 years. So, their were no commitment for them to stay for longer duration."
   ]
  },
  {
   "cell_type": "code",
   "execution_count": 43,
   "id": "55eae8d4",
   "metadata": {},
   "outputs": [
    {
     "data": {
      "text/plain": [
       "Text(0.5, 1.0, 'Histogram')"
      ]
     },
     "execution_count": 43,
     "metadata": {},
     "output_type": "execute_result"
    },
    {
     "data": {
      "image/png": "[encoded data removed]",
      "text/plain": [
       "<Figure size 432x288 with 1 Axes>"
      ]
     },
     "metadata": {
      "needs_background": "light"
     },
     "output_type": "display_data"
    }
   ],
   "source": [
    "# Total work experience\n",
    "\n",
    "df['Total Experience'].hist(bins=20)\n",
    "\n",
    "plt.xlabel('Total work experience')\n",
    "plt.ylabel('Frequency')\n",
    "plt.title('Histogram')"
   ]
  },
  {
   "cell_type": "markdown",
   "id": "60febe1c",
   "metadata": {},
   "source": [
    "From the above graph, majority of people who left were the one who started their corporate job in TATA or TATA was their second company. This is said because most the people lie under 5 year total work experience."
   ]
  },
  {
   "cell_type": "code",
   "execution_count": 56,
   "id": "1831d466",
   "metadata": {},
   "outputs": [
    {
     "data": {
      "text/plain": [
       "Text(0.5, 1.0, 'Bar Graph Example')"
      ]
     },
     "execution_count": 56,
     "metadata": {},
     "output_type": "execute_result"
    },
    {
     "data": {
      "image/png": "[encoded data removed]",
      "text/plain": [
       "<Figure size 432x288 with 1 Axes>"
      ]
     },
     "metadata": {
      "needs_background": "light"
     },
     "output_type": "display_data"
    }
   ],
   "source": [
    "sns.countplot(x='Education Background', data=df)\n",
    "\n",
    "# Set labels and title\n",
    "plt.xlabel('Column 1')\n",
    "plt.ylabel('Count')\n",
    "plt.title('Bar Graph Example')"
   ]
  },
  {
   "cell_type": "code",
   "execution_count": 45,
   "id": "92ce3abd",
   "metadata": {},
   "outputs": [
    {
     "data": {
      "text/plain": [
       "<AxesSubplot:xlabel='Age', ylabel='Education Background'>"
      ]
     },
     "execution_count": 45,
     "metadata": {},
     "output_type": "execute_result"
    },
    {
     "data": {
      "image/png": "[encoded data removed]",
      "text/plain": [
       "<Figure size 432x288 with 1 Axes>"
      ]
     },
     "metadata": {
      "needs_background": "light"
     },
     "output_type": "display_data"
    }
   ],
   "source": [
    "# Box plot education and age\n",
    "sns.boxplot(x='Age', y='Education Background', data=df)\n"
   ]
  },
  {
   "cell_type": "markdown",
   "id": "a479620a",
   "metadata": {},
   "source": [
    "Looking at the education pattern from the above 2 graphs, most of the attiriton has happend to the B.Sc. Agriculture. Also the spread is very wide across the age. "
   ]
  },
  {
   "cell_type": "code",
   "execution_count": 46,
   "id": "37d354f9",
   "metadata": {},
   "outputs": [
    {
     "data": {
      "text/plain": [
       "<AxesSubplot:xlabel='Tenure with Tata', ylabel='Education Background'>"
      ]
     },
     "execution_count": 46,
     "metadata": {},
     "output_type": "execute_result"
    },
    {
     "data": {
      "image/png": "[encoded data removed]",
      "text/plain": [
       "<Figure size 432x288 with 1 Axes>"
      ]
     },
     "metadata": {
      "needs_background": "light"
     },
     "output_type": "display_data"
    }
   ],
   "source": [
    "# Box plot of education and tenure with Tata\n",
    "sns.boxplot(x='Tenure with Tata', y='Education Background', data=df)\n"
   ]
  },
  {
   "cell_type": "markdown",
   "id": "1681f3dd",
   "metadata": {},
   "source": [
    "From the above box plot, the people with BA degree who left the companies were working for a very long tenure. That is arounf 9 to 12 years."
   ]
  },
  {
   "cell_type": "code",
   "execution_count": 47,
   "id": "c9364fea",
   "metadata": {},
   "outputs": [
    {
     "data": {
      "text/plain": [
       "<AxesSubplot:xlabel='Total Experience', ylabel='Education Background'>"
      ]
     },
     "execution_count": 47,
     "metadata": {},
     "output_type": "execute_result"
    },
    {
     "data": {
      "image/png": "[encoded data removed]",
      "text/plain": [
       "<Figure size 432x288 with 1 Axes>"
      ]
     },
     "metadata": {
      "needs_background": "light"
     },
     "output_type": "display_data"
    }
   ],
   "source": [
    "# Box plot of education and total experience\n",
    "sns.boxplot(x='Total Experience', y='Education Background', data=df)\n"
   ]
  },
  {
   "cell_type": "code",
   "execution_count": 51,
   "id": "d3e918e2",
   "metadata": {},
   "outputs": [
    {
     "data": {
      "text/plain": [
       "Text(0.5, 1.0, 'Histogram')"
      ]
     },
     "execution_count": 51,
     "metadata": {},
     "output_type": "execute_result"
    },
    {
     "data": {
      "image/png": "[encoded data removed]",
      "text/plain": [
       "<Figure size 432x288 with 1 Axes>"
      ]
     },
     "metadata": {
      "needs_background": "light"
     },
     "output_type": "display_data"
    }
   ],
   "source": [
    "# Total work experience\n",
    "\n",
    "df['Last Rating'].hist(bins=20)\n",
    "\n",
    "plt.xlabel('Last Rating')\n",
    "plt.ylabel('Frequency')\n",
    "plt.title('Histogram')"
   ]
  },
  {
   "cell_type": "code",
   "execution_count": 53,
   "id": "68d63423",
   "metadata": {},
   "outputs": [
    {
     "data": {
      "text/plain": [
       "<AxesSubplot:xlabel='Last Rating', ylabel='% Increase'>"
      ]
     },
     "execution_count": 53,
     "metadata": {},
     "output_type": "execute_result"
    },
    {
     "data": {
      "image/png": "[encoded data removed]",
      "text/plain": [
       "<Figure size 432x288 with 1 Axes>"
      ]
     },
     "metadata": {
      "needs_background": "light"
     },
     "output_type": "display_data"
    }
   ],
   "source": [
    "# Box plot of education and total experience\n",
    "sns.boxplot(x='Last Rating', y='% Increase', data=df)\n"
   ]
  },
  {
   "cell_type": "markdown",
   "id": "1c2908da",
   "metadata": {},
   "source": [
    "From the above 2 graphs, most of the people who left the company has got their last rating as 2. which is comparitively a bad score. So, their maybe some problem with the current formulation of rating the employees. Also to confirm this pattern, we need to analyze their previous ratings. If it is comparitively on the same line, they maybe under performing or we are persuing a poor rating system."
   ]
  },
  {
   "cell_type": "code",
   "execution_count": 63,
   "id": "e6c2f5bb",
   "metadata": {},
   "outputs": [
    {
     "data": {
      "text/plain": [
       "<seaborn.axisgrid.FacetGrid at 0x189ad151340>"
      ]
     },
     "execution_count": 63,
     "metadata": {},
     "output_type": "execute_result"
    },
    {
     "data": {
      "image/png": "[encoded data removed]",
      "text/plain": [
       "<Figure size 1080x216 with 5 Axes>"
      ]
     },
     "metadata": {
      "needs_background": "light"
     },
     "output_type": "display_data"
    }
   ],
   "source": [
    "# Scatter plot for different ratings.\n",
    "g = sns.FacetGrid(df, col='Last Rating')\n",
    "g.map(sns.scatterplot, 'SR Target', 'SR Ach')"
   ]
  },
  {
   "cell_type": "markdown",
   "id": "cfb3dc27",
   "metadata": {},
   "source": [
    "From the above target vs Achived scatter plot, it is evident that the people with rating 2 was achieving their targets decently."
   ]
  },
  {
   "cell_type": "code",
   "execution_count": 60,
   "id": "d2a588b4",
   "metadata": {},
   "outputs": [
    {
     "data": {
      "text/plain": [
       "<seaborn.axisgrid.FacetGrid at 0x189ac1eca90>"
      ]
     },
     "execution_count": 60,
     "metadata": {},
     "output_type": "execute_result"
    },
    {
     "data": {
      "image/png": "[encoded data removed]",
      "text/plain": [
       "<Figure size 1728x216 with 8 Axes>"
      ]
     },
     "metadata": {
      "needs_background": "light"
     },
     "output_type": "display_data"
    }
   ],
   "source": [
    "# Scatterplots for different educational backgrounds.\n",
    "g = sns.FacetGrid(df, col='Education Background')\n",
    "g.map(sns.scatterplot, 'SR Target', 'SR Ach')"
   ]
  },
  {
   "cell_type": "markdown",
   "id": "19c081cc",
   "metadata": {},
   "source": [
    "Here also the people with MBA agriculture was under performing."
   ]
  },
  {
   "cell_type": "markdown",
   "id": "25c1c26b",
   "metadata": {},
   "source": [
    "## Final Recommendation:"
   ]
  },
  {
   "cell_type": "markdown",
   "id": "22259162",
   "metadata": {},
   "source": [
    "-> Give special attention to the employees under 30 years of age.(As 50% of these people were under 30)"
   ]
  },
  {
   "cell_type": "markdown",
   "id": "4ca18bbf",
   "metadata": {},
   "source": [
    "-> Give proper raise to the employees who has been performing well.(The average percentage increase of CTC is 25%)"
   ]
  },
  {
   "cell_type": "markdown",
   "id": "a1cd38cb",
   "metadata": {},
   "source": [
    "-> Keenly observe the work culture and demands of people who are new to this company. ie, tenure with the company is around 1      to 2 years."
   ]
  },
  {
   "cell_type": "markdown",
   "id": "b13427ed",
   "metadata": {},
   "source": [
    "-> Do the same for the people with total work experience of 5 years."
   ]
  },
  {
   "cell_type": "markdown",
   "id": "9ef9f785",
   "metadata": {},
   "source": [
    "-> Observe and understand the problem with people graduated with B.Sc. Agriculture degree. Find out the current job that they      are doing and check weather if their is any problem with their sector."
   ]
  },
  {
   "cell_type": "markdown",
   "id": "6ffdd6a9",
   "metadata": {},
   "source": [
    "-> Seniors workers with BA degree has to be adressed if they have any problem."
   ]
  },
  {
   "cell_type": "markdown",
   "id": "f92bc658",
   "metadata": {},
   "source": [
    "-> Check and validate the current rating system. As most the people who left got a previous rating of 2 but most of them has      surpassed their targets."
   ]
  }
 ],
 "metadata": {
  "kernelspec": {
   "display_name": "Python 3 (ipykernel)",
   "language": "python",
   "name": "python3"
  },
  "language_info": {
   "codemirror_mode": {
    "name": "ipython",
    "version": 3
   },
   "file_extension": ".py",
   "mimetype": "text/x-python",
   "name": "python",
   "nbconvert_exporter": "python",
   "pygments_lexer": "ipython3",
   "version": "3.9.12"
  }
 },
 "nbformat": 4,
 "nbformat_minor": 5
}
