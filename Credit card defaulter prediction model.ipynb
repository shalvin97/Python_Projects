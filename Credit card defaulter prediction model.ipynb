{
 "cells": [
  {
   "cell_type": "markdown",
   "id": "de8b0107",
   "metadata": {},
   "source": [
    "# LOGISTIC REGRESSION\n",
    "\n",
    "## Credit card defaulter predicition model"
   ]
  },
  {
   "cell_type": "code",
   "execution_count": 1,
   "id": "8f977e61",
   "metadata": {},
   "outputs": [],
   "source": [
    "import pandas as pd\n",
    "import numpy as np\n",
    "\n",
    "import matplotlib.pyplot as plt\n",
    "import seaborn as sns\n",
    "%matplotlib inline"
   ]
  },
  {
   "cell_type": "markdown",
   "id": "997225f9",
   "metadata": {},
   "source": [
    "Reading the data"
   ]
  },
  {
   "cell_type": "code",
   "execution_count": 2,
   "id": "cda7e398",
   "metadata": {},
   "outputs": [],
   "source": [
    "data = pd.read_excel(\"Model data.xlsx\")\n"
   ]
  },
  {
   "cell_type": "code",
   "execution_count": 4,
   "id": "6f5bf0a7",
   "metadata": {},
   "outputs": [
    {
     "data": {
      "text/html": [
       "<div>\n",
       "<style scoped>\n",
       "    .dataframe tbody tr th:only-of-type {\n",
       "        vertical-align: middle;\n",
       "    }\n",
       "\n",
       "    .dataframe tbody tr th {\n",
       "        vertical-align: top;\n",
       "    }\n",
       "\n",
       "    .dataframe thead th {\n",
       "        text-align: right;\n",
       "    }\n",
       "</style>\n",
       "<table border=\"1\" class=\"dataframe\">\n",
       "  <thead>\n",
       "    <tr style=\"text-align: right;\">\n",
       "      <th></th>\n",
       "      <th>S.No</th>\n",
       "      <th>Duration</th>\n",
       "      <th>Credit History</th>\n",
       "      <th>critical</th>\n",
       "      <th>delay</th>\n",
       "      <th>Bank paid</th>\n",
       "      <th>Purpose of credit</th>\n",
       "      <th>Credit Amount</th>\n",
       "      <th>Amount 4679</th>\n",
       "      <th>Less than 1000</th>\n",
       "      <th>...</th>\n",
       "      <th>Phone</th>\n",
       "      <th>Foreign</th>\n",
       "      <th>HKCAL200*Credit Amount</th>\n",
       "      <th>FOR*CREDIT Amount</th>\n",
       "      <th>CREDITA*DEPEND</th>\n",
       "      <th>Credit classification</th>\n",
       "      <th>Credit Rating</th>\n",
       "      <th>Unnamed: 47</th>\n",
       "      <th>Unnamed: 48</th>\n",
       "      <th>Unnamed: 49</th>\n",
       "    </tr>\n",
       "  </thead>\n",
       "  <tbody>\n",
       "    <tr>\n",
       "      <th>0</th>\n",
       "      <td>1.0</td>\n",
       "      <td>6.0</td>\n",
       "      <td>critical</td>\n",
       "      <td>1.0</td>\n",
       "      <td>0.0</td>\n",
       "      <td>0.0</td>\n",
       "      <td>radio-tv</td>\n",
       "      <td>1169.0</td>\n",
       "      <td>0.0</td>\n",
       "      <td>0.0</td>\n",
       "      <td>...</td>\n",
       "      <td>0.0</td>\n",
       "      <td>0.0</td>\n",
       "      <td>NaN</td>\n",
       "      <td>0.0</td>\n",
       "      <td>0.0</td>\n",
       "      <td>good.</td>\n",
       "      <td>0.0</td>\n",
       "      <td>NaN</td>\n",
       "      <td>NaN</td>\n",
       "      <td>NaN</td>\n",
       "    </tr>\n",
       "    <tr>\n",
       "      <th>1</th>\n",
       "      <td>2.0</td>\n",
       "      <td>48.0</td>\n",
       "      <td>all-paid-duly</td>\n",
       "      <td>0.0</td>\n",
       "      <td>0.0</td>\n",
       "      <td>0.0</td>\n",
       "      <td>radio-tv</td>\n",
       "      <td>5951.0</td>\n",
       "      <td>1.0</td>\n",
       "      <td>0.0</td>\n",
       "      <td>...</td>\n",
       "      <td>1.0</td>\n",
       "      <td>1.0</td>\n",
       "      <td>NaN</td>\n",
       "      <td>0.0</td>\n",
       "      <td>0.0</td>\n",
       "      <td>bad.</td>\n",
       "      <td>1.0</td>\n",
       "      <td>NaN</td>\n",
       "      <td>NaN</td>\n",
       "      <td>NaN</td>\n",
       "    </tr>\n",
       "    <tr>\n",
       "      <th>2</th>\n",
       "      <td>3.0</td>\n",
       "      <td>12.0</td>\n",
       "      <td>critical</td>\n",
       "      <td>1.0</td>\n",
       "      <td>0.0</td>\n",
       "      <td>0.0</td>\n",
       "      <td>education</td>\n",
       "      <td>2096.0</td>\n",
       "      <td>0.0</td>\n",
       "      <td>0.0</td>\n",
       "      <td>...</td>\n",
       "      <td>1.0</td>\n",
       "      <td>1.0</td>\n",
       "      <td>NaN</td>\n",
       "      <td>0.0</td>\n",
       "      <td>0.0</td>\n",
       "      <td>good.</td>\n",
       "      <td>0.0</td>\n",
       "      <td>NaN</td>\n",
       "      <td>NaN</td>\n",
       "      <td>NaN</td>\n",
       "    </tr>\n",
       "    <tr>\n",
       "      <th>3</th>\n",
       "      <td>4.0</td>\n",
       "      <td>42.0</td>\n",
       "      <td>all-paid-duly</td>\n",
       "      <td>0.0</td>\n",
       "      <td>0.0</td>\n",
       "      <td>0.0</td>\n",
       "      <td>furniture</td>\n",
       "      <td>7882.0</td>\n",
       "      <td>1.0</td>\n",
       "      <td>0.0</td>\n",
       "      <td>...</td>\n",
       "      <td>1.0</td>\n",
       "      <td>1.0</td>\n",
       "      <td>NaN</td>\n",
       "      <td>0.0</td>\n",
       "      <td>0.0</td>\n",
       "      <td>good.</td>\n",
       "      <td>0.0</td>\n",
       "      <td>NaN</td>\n",
       "      <td>NaN</td>\n",
       "      <td>NaN</td>\n",
       "    </tr>\n",
       "    <tr>\n",
       "      <th>4</th>\n",
       "      <td>5.0</td>\n",
       "      <td>24.0</td>\n",
       "      <td>delay</td>\n",
       "      <td>0.0</td>\n",
       "      <td>1.0</td>\n",
       "      <td>0.0</td>\n",
       "      <td>new-car</td>\n",
       "      <td>4870.0</td>\n",
       "      <td>1.0</td>\n",
       "      <td>0.0</td>\n",
       "      <td>...</td>\n",
       "      <td>1.0</td>\n",
       "      <td>1.0</td>\n",
       "      <td>NaN</td>\n",
       "      <td>0.0</td>\n",
       "      <td>0.0</td>\n",
       "      <td>bad.</td>\n",
       "      <td>1.0</td>\n",
       "      <td>NaN</td>\n",
       "      <td>NaN</td>\n",
       "      <td>NaN</td>\n",
       "    </tr>\n",
       "  </tbody>\n",
       "</table>\n",
       "<p>5 rows × 50 columns</p>\n",
       "</div>"
      ],
      "text/plain": [
       "   S.No  Duration Credit History  critical  delay  Bank paid  \\\n",
       "0   1.0       6.0       critical       1.0    0.0        0.0   \n",
       "1   2.0      48.0  all-paid-duly       0.0    0.0        0.0   \n",
       "2   3.0      12.0       critical       1.0    0.0        0.0   \n",
       "3   4.0      42.0  all-paid-duly       0.0    0.0        0.0   \n",
       "4   5.0      24.0          delay       0.0    1.0        0.0   \n",
       "\n",
       "  Purpose of credit  Credit Amount  Amount 4679  Less than 1000  ...  Phone  \\\n",
       "0          radio-tv         1169.0          0.0             0.0  ...    0.0   \n",
       "1          radio-tv         5951.0          1.0             0.0  ...    1.0   \n",
       "2         education         2096.0          0.0             0.0  ...    1.0   \n",
       "3         furniture         7882.0          1.0             0.0  ...    1.0   \n",
       "4           new-car         4870.0          1.0             0.0  ...    1.0   \n",
       "\n",
       "   Foreign HKCAL200*Credit Amount  FOR*CREDIT Amount  CREDITA*DEPEND  \\\n",
       "0      0.0                    NaN                0.0             0.0   \n",
       "1      1.0                    NaN                0.0             0.0   \n",
       "2      1.0                    NaN                0.0             0.0   \n",
       "3      1.0                    NaN                0.0             0.0   \n",
       "4      1.0                    NaN                0.0             0.0   \n",
       "\n",
       "   Credit classification  Credit Rating Unnamed: 47  Unnamed: 48  Unnamed: 49  \n",
       "0                  good.            0.0         NaN          NaN          NaN  \n",
       "1                   bad.            1.0         NaN          NaN          NaN  \n",
       "2                  good.            0.0         NaN          NaN          NaN  \n",
       "3                  good.            0.0         NaN          NaN          NaN  \n",
       "4                   bad.            1.0         NaN          NaN          NaN  \n",
       "\n",
       "[5 rows x 50 columns]"
      ]
     },
     "execution_count": 4,
     "metadata": {},
     "output_type": "execute_result"
    }
   ],
   "source": [
    "data.head()"
   ]
  },
  {
   "cell_type": "code",
   "execution_count": 8,
   "id": "46eb4e12",
   "metadata": {},
   "outputs": [
    {
     "data": {
      "text/plain": [
       "S.No                      float64\n",
       "Duration                  float64\n",
       "Credit History             object\n",
       "critical                  float64\n",
       "delay                     float64\n",
       "Bank paid                 float64\n",
       "Purpose of credit          object\n",
       "Credit Amount             float64\n",
       "Amount 4679               float64\n",
       "Less than 1000            float64\n",
       "B1000-5000                float64\n",
       "B5000-10000               float64\n",
       "Balance in Savings A/C     object\n",
       "less than 100             float64\n",
       "less 500                  float64\n",
       "less 1000                 float64\n",
       "over 1000                 float64\n",
       "Employment                 object\n",
       "Unemployed                float64\n",
       "Seven Years               float64\n",
       "four years                float64\n",
       "one year                  float64\n",
       "Install_rate              float64\n",
       "Marital status             object\n",
       "Marital Status -FD        float64\n",
       "Marital Status -MM        float64\n",
       "Marital Status -SM        float64\n",
       "Co-applicant               object\n",
       "Co-applicant_none         float64\n",
       "Co-applicant Gaurantor    float64\n",
       "Present Resident          float64\n",
       "Real Estate               float64\n",
       "Age                       float64\n",
       "Other installment         float64\n",
       "Residence                 float64\n",
       "Num_Credits               float64\n",
       "Job                        object\n",
       "Unskilled                 float64\n",
       "Skilled                   float64\n",
       "No. dependents            float64\n",
       "Phone                     float64\n",
       "Foreign                   float64\n",
       "HKCAL200*Credit Amount    float64\n",
       "FOR*CREDIT Amount         float64\n",
       "CREDITA*DEPEND            float64\n",
       "Credit classification      object\n",
       "Credit Rating             float64\n",
       "Unnamed: 47               float64\n",
       "Unnamed: 48               float64\n",
       "Unnamed: 49               float64\n",
       "dtype: object"
      ]
     },
     "execution_count": 8,
     "metadata": {},
     "output_type": "execute_result"
    }
   ],
   "source": [
    "# Understanding the data types for of each variable.\n",
    "data.dtypes"
   ]
  },
  {
   "cell_type": "code",
   "execution_count": 7,
   "id": "6958a781",
   "metadata": {},
   "outputs": [
    {
     "data": {
      "text/plain": [
       "S.No                        3\n",
       "Duration                    3\n",
       "Credit History              3\n",
       "critical                    3\n",
       "delay                       3\n",
       "Bank paid                   3\n",
       "Purpose of credit           3\n",
       "Credit Amount               1\n",
       "Amount 4679                 3\n",
       "Less than 1000              3\n",
       "B1000-5000                  3\n",
       "B5000-10000                 3\n",
       "Balance in Savings A/C      3\n",
       "less than 100               3\n",
       "less 500                    3\n",
       "less 1000                   3\n",
       "over 1000                   3\n",
       "Employment                  3\n",
       "Unemployed                  3\n",
       "Seven Years                 3\n",
       "four years                  3\n",
       "one year                    3\n",
       "Install_rate                3\n",
       "Marital status              3\n",
       "Marital Status -FD          3\n",
       "Marital Status -MM          3\n",
       "Marital Status -SM          3\n",
       "Co-applicant                3\n",
       "Co-applicant_none           3\n",
       "Co-applicant Gaurantor      3\n",
       "Present Resident            3\n",
       "Real Estate                 3\n",
       "Age                         3\n",
       "Other installment           3\n",
       "Residence                   3\n",
       "Num_Credits                 3\n",
       "Job                         3\n",
       "Unskilled                   3\n",
       "Skilled                     3\n",
       "No. dependents              3\n",
       "Phone                       3\n",
       "Foreign                     3\n",
       "HKCAL200*Credit Amount    803\n",
       "FOR*CREDIT Amount           3\n",
       "CREDITA*DEPEND              3\n",
       "Credit classification       3\n",
       "Credit Rating               3\n",
       "Unnamed: 47               803\n",
       "Unnamed: 48               803\n",
       "Unnamed: 49               802\n",
       "dtype: int64"
      ]
     },
     "execution_count": 7,
     "metadata": {},
     "output_type": "execute_result"
    }
   ],
   "source": [
    "# Finding the null values\n",
    "data.isnull().sum()"
   ]
  },
  {
   "cell_type": "code",
   "execution_count": 9,
   "id": "2354de31",
   "metadata": {},
   "outputs": [
    {
     "data": {
      "text/plain": [
       "Index(['S.No', 'Duration', 'Credit History', 'critical', 'delay', 'Bank paid',\n",
       "       'Purpose of credit', 'Credit Amount', 'Amount 4679', 'Less than 1000',\n",
       "       'B1000-5000', 'B5000-10000', 'Balance in Savings A/C', 'less than 100',\n",
       "       'less 500', 'less 1000', 'over 1000', 'Employment', 'Unemployed',\n",
       "       'Seven Years', 'four years', 'one year', 'Install_rate',\n",
       "       'Marital status', 'Marital Status -FD', 'Marital Status -MM',\n",
       "       'Marital Status -SM', 'Co-applicant', 'Co-applicant_none',\n",
       "       'Co-applicant Gaurantor', 'Present Resident', 'Real Estate', 'Age',\n",
       "       'Other installment', 'Residence', 'Num_Credits', 'Job', 'Unskilled',\n",
       "       'Skilled', 'No. dependents', 'Phone', 'Foreign',\n",
       "       'HKCAL200*Credit Amount', 'FOR*CREDIT Amount', 'CREDITA*DEPEND',\n",
       "       'Credit classification', 'Credit Rating', 'Unnamed: 47', 'Unnamed: 48',\n",
       "       'Unnamed: 49'],\n",
       "      dtype='object')"
      ]
     },
     "execution_count": 9,
     "metadata": {},
     "output_type": "execute_result"
    }
   ],
   "source": [
    "data.columns\n"
   ]
  },
  {
   "cell_type": "markdown",
   "id": "72963094",
   "metadata": {},
   "source": [
    "Subsetting columns "
   ]
  },
  {
   "cell_type": "code",
   "execution_count": 11,
   "id": "91254043",
   "metadata": {},
   "outputs": [],
   "source": [
    "data = data[['S.No', 'Duration', 'Credit History', 'critical', 'delay', 'Bank paid',\n",
    "       'Purpose of credit', 'Credit Amount', 'Amount 4679', 'Less than 1000',\n",
    "       'B1000-5000', 'B5000-10000', 'Balance in Savings A/C', 'less than 100',\n",
    "       'less 500', 'less 1000', 'over 1000', 'Employment', 'Unemployed',\n",
    "       'Seven Years', 'four years', 'one year', 'Install_rate',\n",
    "       'Marital status', 'Marital Status -FD', 'Marital Status -MM',\n",
    "       'Marital Status -SM', 'Co-applicant', 'Co-applicant_none',\n",
    "       'Co-applicant Gaurantor', 'Present Resident', 'Real Estate', 'Age',\n",
    "       'Other installment', 'Residence', 'Num_Credits', 'Job', 'Unskilled',\n",
    "       'Skilled', 'No. dependents', 'Phone', 'Foreign', 'FOR*CREDIT Amount', 'CREDITA*DEPEND',\n",
    "       'Credit classification', 'Credit Rating']]"
   ]
  },
  {
   "cell_type": "code",
   "execution_count": 12,
   "id": "bcdfde9b",
   "metadata": {},
   "outputs": [
    {
     "data": {
      "text/plain": [
       "Index(['S.No', 'Duration', 'Credit History', 'critical', 'delay', 'Bank paid',\n",
       "       'Purpose of credit', 'Credit Amount', 'Amount 4679', 'Less than 1000',\n",
       "       'B1000-5000', 'B5000-10000', 'Balance in Savings A/C', 'less than 100',\n",
       "       'less 500', 'less 1000', 'over 1000', 'Employment', 'Unemployed',\n",
       "       'Seven Years', 'four years', 'one year', 'Install_rate',\n",
       "       'Marital status', 'Marital Status -FD', 'Marital Status -MM',\n",
       "       'Marital Status -SM', 'Co-applicant', 'Co-applicant_none',\n",
       "       'Co-applicant Gaurantor', 'Present Resident', 'Real Estate', 'Age',\n",
       "       'Other installment', 'Residence', 'Num_Credits', 'Job', 'Unskilled',\n",
       "       'Skilled', 'No. dependents', 'Phone', 'Foreign', 'FOR*CREDIT Amount',\n",
       "       'CREDITA*DEPEND', 'Credit classification', 'Credit Rating'],\n",
       "      dtype='object')"
      ]
     },
     "execution_count": 12,
     "metadata": {},
     "output_type": "execute_result"
    }
   ],
   "source": [
    "data.columns\n"
   ]
  },
  {
   "cell_type": "code",
   "execution_count": 13,
   "id": "2c77b795",
   "metadata": {},
   "outputs": [
    {
     "data": {
      "text/html": [
       "<div>\n",
       "<style scoped>\n",
       "    .dataframe tbody tr th:only-of-type {\n",
       "        vertical-align: middle;\n",
       "    }\n",
       "\n",
       "    .dataframe tbody tr th {\n",
       "        vertical-align: top;\n",
       "    }\n",
       "\n",
       "    .dataframe thead th {\n",
       "        text-align: right;\n",
       "    }\n",
       "</style>\n",
       "<table border=\"1\" class=\"dataframe\">\n",
       "  <thead>\n",
       "    <tr style=\"text-align: right;\">\n",
       "      <th></th>\n",
       "      <th>S.No</th>\n",
       "      <th>Duration</th>\n",
       "      <th>Credit History</th>\n",
       "      <th>critical</th>\n",
       "      <th>delay</th>\n",
       "      <th>Bank paid</th>\n",
       "      <th>Purpose of credit</th>\n",
       "      <th>Credit Amount</th>\n",
       "      <th>Amount 4679</th>\n",
       "      <th>Less than 1000</th>\n",
       "      <th>...</th>\n",
       "      <th>Job</th>\n",
       "      <th>Unskilled</th>\n",
       "      <th>Skilled</th>\n",
       "      <th>No. dependents</th>\n",
       "      <th>Phone</th>\n",
       "      <th>Foreign</th>\n",
       "      <th>FOR*CREDIT Amount</th>\n",
       "      <th>CREDITA*DEPEND</th>\n",
       "      <th>Credit classification</th>\n",
       "      <th>Credit Rating</th>\n",
       "    </tr>\n",
       "  </thead>\n",
       "  <tbody>\n",
       "    <tr>\n",
       "      <th>0</th>\n",
       "      <td>1.0</td>\n",
       "      <td>6.0</td>\n",
       "      <td>critical</td>\n",
       "      <td>1.0</td>\n",
       "      <td>0.0</td>\n",
       "      <td>0.0</td>\n",
       "      <td>radio-tv</td>\n",
       "      <td>1169.0</td>\n",
       "      <td>0.0</td>\n",
       "      <td>0.0</td>\n",
       "      <td>...</td>\n",
       "      <td>skilled</td>\n",
       "      <td>0.0</td>\n",
       "      <td>1.0</td>\n",
       "      <td>1.0</td>\n",
       "      <td>0.0</td>\n",
       "      <td>0.0</td>\n",
       "      <td>0.0</td>\n",
       "      <td>0.0</td>\n",
       "      <td>good.</td>\n",
       "      <td>0.0</td>\n",
       "    </tr>\n",
       "    <tr>\n",
       "      <th>1</th>\n",
       "      <td>2.0</td>\n",
       "      <td>48.0</td>\n",
       "      <td>all-paid-duly</td>\n",
       "      <td>0.0</td>\n",
       "      <td>0.0</td>\n",
       "      <td>0.0</td>\n",
       "      <td>radio-tv</td>\n",
       "      <td>5951.0</td>\n",
       "      <td>1.0</td>\n",
       "      <td>0.0</td>\n",
       "      <td>...</td>\n",
       "      <td>skilled</td>\n",
       "      <td>0.0</td>\n",
       "      <td>1.0</td>\n",
       "      <td>1.0</td>\n",
       "      <td>1.0</td>\n",
       "      <td>1.0</td>\n",
       "      <td>0.0</td>\n",
       "      <td>0.0</td>\n",
       "      <td>bad.</td>\n",
       "      <td>1.0</td>\n",
       "    </tr>\n",
       "    <tr>\n",
       "      <th>2</th>\n",
       "      <td>3.0</td>\n",
       "      <td>12.0</td>\n",
       "      <td>critical</td>\n",
       "      <td>1.0</td>\n",
       "      <td>0.0</td>\n",
       "      <td>0.0</td>\n",
       "      <td>education</td>\n",
       "      <td>2096.0</td>\n",
       "      <td>0.0</td>\n",
       "      <td>0.0</td>\n",
       "      <td>...</td>\n",
       "      <td>unskilled-resident</td>\n",
       "      <td>1.0</td>\n",
       "      <td>0.0</td>\n",
       "      <td>2.0</td>\n",
       "      <td>1.0</td>\n",
       "      <td>1.0</td>\n",
       "      <td>0.0</td>\n",
       "      <td>0.0</td>\n",
       "      <td>good.</td>\n",
       "      <td>0.0</td>\n",
       "    </tr>\n",
       "    <tr>\n",
       "      <th>3</th>\n",
       "      <td>4.0</td>\n",
       "      <td>42.0</td>\n",
       "      <td>all-paid-duly</td>\n",
       "      <td>0.0</td>\n",
       "      <td>0.0</td>\n",
       "      <td>0.0</td>\n",
       "      <td>furniture</td>\n",
       "      <td>7882.0</td>\n",
       "      <td>1.0</td>\n",
       "      <td>0.0</td>\n",
       "      <td>...</td>\n",
       "      <td>skilled</td>\n",
       "      <td>0.0</td>\n",
       "      <td>1.0</td>\n",
       "      <td>2.0</td>\n",
       "      <td>1.0</td>\n",
       "      <td>1.0</td>\n",
       "      <td>0.0</td>\n",
       "      <td>0.0</td>\n",
       "      <td>good.</td>\n",
       "      <td>0.0</td>\n",
       "    </tr>\n",
       "    <tr>\n",
       "      <th>4</th>\n",
       "      <td>5.0</td>\n",
       "      <td>24.0</td>\n",
       "      <td>delay</td>\n",
       "      <td>0.0</td>\n",
       "      <td>1.0</td>\n",
       "      <td>0.0</td>\n",
       "      <td>new-car</td>\n",
       "      <td>4870.0</td>\n",
       "      <td>1.0</td>\n",
       "      <td>0.0</td>\n",
       "      <td>...</td>\n",
       "      <td>skilled</td>\n",
       "      <td>0.0</td>\n",
       "      <td>1.0</td>\n",
       "      <td>2.0</td>\n",
       "      <td>1.0</td>\n",
       "      <td>1.0</td>\n",
       "      <td>0.0</td>\n",
       "      <td>0.0</td>\n",
       "      <td>bad.</td>\n",
       "      <td>1.0</td>\n",
       "    </tr>\n",
       "  </tbody>\n",
       "</table>\n",
       "<p>5 rows × 46 columns</p>\n",
       "</div>"
      ],
      "text/plain": [
       "   S.No  Duration Credit History  critical  delay  Bank paid  \\\n",
       "0   1.0       6.0       critical       1.0    0.0        0.0   \n",
       "1   2.0      48.0  all-paid-duly       0.0    0.0        0.0   \n",
       "2   3.0      12.0       critical       1.0    0.0        0.0   \n",
       "3   4.0      42.0  all-paid-duly       0.0    0.0        0.0   \n",
       "4   5.0      24.0          delay       0.0    1.0        0.0   \n",
       "\n",
       "  Purpose of credit  Credit Amount  Amount 4679  Less than 1000  ...  \\\n",
       "0          radio-tv         1169.0          0.0             0.0  ...   \n",
       "1          radio-tv         5951.0          1.0             0.0  ...   \n",
       "2         education         2096.0          0.0             0.0  ...   \n",
       "3         furniture         7882.0          1.0             0.0  ...   \n",
       "4           new-car         4870.0          1.0             0.0  ...   \n",
       "\n",
       "                   Job  Unskilled Skilled  No. dependents  Phone  Foreign  \\\n",
       "0              skilled        0.0     1.0             1.0    0.0      0.0   \n",
       "1              skilled        0.0     1.0             1.0    1.0      1.0   \n",
       "2   unskilled-resident        1.0     0.0             2.0    1.0      1.0   \n",
       "3              skilled        0.0     1.0             2.0    1.0      1.0   \n",
       "4              skilled        0.0     1.0             2.0    1.0      1.0   \n",
       "\n",
       "   FOR*CREDIT Amount CREDITA*DEPEND  Credit classification  Credit Rating  \n",
       "0                0.0            0.0                  good.            0.0  \n",
       "1                0.0            0.0                   bad.            1.0  \n",
       "2                0.0            0.0                  good.            0.0  \n",
       "3                0.0            0.0                  good.            0.0  \n",
       "4                0.0            0.0                   bad.            1.0  \n",
       "\n",
       "[5 rows x 46 columns]"
      ]
     },
     "execution_count": 13,
     "metadata": {},
     "output_type": "execute_result"
    }
   ],
   "source": [
    "data.head()\n"
   ]
  },
  {
   "cell_type": "code",
   "execution_count": 14,
   "id": "c8fb7ec7",
   "metadata": {},
   "outputs": [
    {
     "name": "stderr",
     "output_type": "stream",
     "text": [
      "C:\\Users\\SHALVIN\\AppData\\Local\\Temp\\ipykernel_3848\\3853359387.py:2: SettingWithCopyWarning: \n",
      "A value is trying to be set on a copy of a slice from a DataFrame\n",
      "\n",
      "See the caveats in the documentation: https://pandas.pydata.org/pandas-docs/stable/user_guide/indexing.html#returning-a-view-versus-a-copy\n",
      "  data.dropna(inplace = True)\n"
     ]
    }
   ],
   "source": [
    "# Removing null values\n",
    "data.dropna(inplace = True) "
   ]
  },
  {
   "cell_type": "code",
   "execution_count": 15,
   "id": "49d42d8d",
   "metadata": {},
   "outputs": [
    {
     "data": {
      "text/plain": [
       "S.No                      0\n",
       "Duration                  0\n",
       "Credit History            0\n",
       "critical                  0\n",
       "delay                     0\n",
       "Bank paid                 0\n",
       "Purpose of credit         0\n",
       "Credit Amount             0\n",
       "Amount 4679               0\n",
       "Less than 1000            0\n",
       "B1000-5000                0\n",
       "B5000-10000               0\n",
       "Balance in Savings A/C    0\n",
       "less than 100             0\n",
       "less 500                  0\n",
       "less 1000                 0\n",
       "over 1000                 0\n",
       "Employment                0\n",
       "Unemployed                0\n",
       "Seven Years               0\n",
       "four years                0\n",
       "one year                  0\n",
       "Install_rate              0\n",
       "Marital status            0\n",
       "Marital Status -FD        0\n",
       "Marital Status -MM        0\n",
       "Marital Status -SM        0\n",
       "Co-applicant              0\n",
       "Co-applicant_none         0\n",
       "Co-applicant Gaurantor    0\n",
       "Present Resident          0\n",
       "Real Estate               0\n",
       "Age                       0\n",
       "Other installment         0\n",
       "Residence                 0\n",
       "Num_Credits               0\n",
       "Job                       0\n",
       "Unskilled                 0\n",
       "Skilled                   0\n",
       "No. dependents            0\n",
       "Phone                     0\n",
       "Foreign                   0\n",
       "FOR*CREDIT Amount         0\n",
       "CREDITA*DEPEND            0\n",
       "Credit classification     0\n",
       "Credit Rating             0\n",
       "dtype: int64"
      ]
     },
     "execution_count": 15,
     "metadata": {},
     "output_type": "execute_result"
    }
   ],
   "source": [
    "data.isnull().sum()\n"
   ]
  },
  {
   "cell_type": "markdown",
   "id": "ade95f9b",
   "metadata": {},
   "source": [
    "EDA"
   ]
  },
  {
   "cell_type": "markdown",
   "id": "d06e2bca",
   "metadata": {},
   "source": [
    "Note - Here \"0\" in credit rating means the person has \"defaulted\" and \"1\" means \"not defaulted\"."
   ]
  },
  {
   "cell_type": "code",
   "execution_count": 16,
   "id": "0c435a36",
   "metadata": {},
   "outputs": [
    {
     "data": {
      "text/plain": [
       "<AxesSubplot:title={'center':'Credit Rating across critical'}, xlabel='Credit Rating,critical', ylabel='Frequency'>"
      ]
     },
     "execution_count": 16,
     "metadata": {},
     "output_type": "execute_result"
    },
    {
     "data": {
      "image/png": "[encoded data removed]",
      "text/plain": [
       "<Figure size 432x288 with 1 Axes>"
      ]
     },
     "metadata": {
      "needs_background": "light"
     },
     "output_type": "display_data"
    }
   ],
   "source": [
    "plt.title('Credit Rating across critical', fontsize=10, y=1.015,fontweight='semibold')\n",
    "plt.ylabel('Frequency', labelpad=16)\n",
    "data.groupby('Credit Rating')['critical'].value_counts().plot(kind = 'bar')"
   ]
  },
  {
   "cell_type": "code",
   "execution_count": 17,
   "id": "d2b6b96c",
   "metadata": {},
   "outputs": [
    {
     "data": {
      "text/plain": [
       "Credit Rating  critical\n",
       "0.0            0.0         369\n",
       "               1.0         192\n",
       "1.0            0.0         196\n",
       "               1.0          43\n",
       "Name: critical, dtype: int64"
      ]
     },
     "execution_count": 17,
     "metadata": {},
     "output_type": "execute_result"
    }
   ],
   "source": [
    "data.groupby('Credit Rating')['critical'].value_counts()\n"
   ]
  },
  {
   "cell_type": "code",
   "execution_count": 18,
   "id": "d729a4b8",
   "metadata": {},
   "outputs": [
    {
     "data": {
      "text/plain": [
       "<AxesSubplot:title={'center':'Credit rating across Duration'}, xlabel='Credit Rating', ylabel='Average Duration'>"
      ]
     },
     "execution_count": 18,
     "metadata": {},
     "output_type": "execute_result"
    },
    {
     "data": {
      "image/png": "[encoded data removed]",
      "text/plain": [
       "<Figure size 432x288 with 1 Axes>"
      ]
     },
     "metadata": {
      "needs_background": "light"
     },
     "output_type": "display_data"
    }
   ],
   "source": [
    "plt.title('Credit rating across Duration', fontsize=10, y=1.015,fontweight='semibold')\n",
    "plt.ylabel('Average Duration', labelpad=16)\n",
    "data.groupby('Credit Rating')['Duration'].mean().plot(kind = 'bar')"
   ]
  },
  {
   "cell_type": "code",
   "execution_count": 19,
   "id": "7dc6dfdd",
   "metadata": {},
   "outputs": [
    {
     "data": {
      "text/plain": [
       "<AxesSubplot:title={'center':'Credit rating with salary less then 100'}, xlabel='Credit Rating,less than 100', ylabel='Frequncy'>"
      ]
     },
     "execution_count": 19,
     "metadata": {},
     "output_type": "execute_result"
    },
    {
     "data": {
      "image/png": "[encoded data removed]",
      "text/plain": [
       "<Figure size 432x288 with 1 Axes>"
      ]
     },
     "metadata": {
      "needs_background": "light"
     },
     "output_type": "display_data"
    }
   ],
   "source": [
    "plt.title('Credit rating with salary less then 100', fontsize=10, y=1.015,fontweight='semibold')\n",
    "plt.ylabel('Frequncy', labelpad=16)\n",
    "data.groupby('Credit Rating')['less than 100'].value_counts().plot(kind = 'bar')"
   ]
  },
  {
   "cell_type": "code",
   "execution_count": 20,
   "id": "ee1d5b0d",
   "metadata": {},
   "outputs": [
    {
     "data": {
      "text/plain": [
       "0.0    561\n",
       "1.0    239\n",
       "Name: Credit Rating, dtype: int64"
      ]
     },
     "execution_count": 20,
     "metadata": {},
     "output_type": "execute_result"
    }
   ],
   "source": [
    "data['Credit Rating'].value_counts()\n"
   ]
  },
  {
   "cell_type": "code",
   "execution_count": 21,
   "id": "26d371b6",
   "metadata": {},
   "outputs": [
    {
     "data": {
      "text/plain": [
       "Credit Rating  less than 100\n",
       "0.0            1.0              310\n",
       "               0.0              251\n",
       "1.0            1.0              166\n",
       "               0.0               73\n",
       "Name: less than 100, dtype: int64"
      ]
     },
     "execution_count": 21,
     "metadata": {},
     "output_type": "execute_result"
    }
   ],
   "source": [
    "data.groupby('Credit Rating')['less than 100'].value_counts()\n"
   ]
  },
  {
   "cell_type": "code",
   "execution_count": 22,
   "id": "ff987971",
   "metadata": {},
   "outputs": [
    {
     "data": {
      "text/plain": [
       "<AxesSubplot:title={'center':'Credit rating with people havinh 7 years of experience'}, xlabel='Credit Rating,Seven Years', ylabel='Frequency'>"
      ]
     },
     "execution_count": 22,
     "metadata": {},
     "output_type": "execute_result"
    },
    {
     "data": {
      "image/png": "[encoded data removed]",
      "text/plain": [
       "<Figure size 432x288 with 1 Axes>"
      ]
     },
     "metadata": {
      "needs_background": "light"
     },
     "output_type": "display_data"
    }
   ],
   "source": [
    "plt.title('Credit rating with people havinh 7 years of experience', fontsize=10, y=1.015,fontweight='semibold')\n",
    "plt.ylabel('Frequency', labelpad=16)\n",
    "data.groupby('Credit Rating')['Seven Years'].value_counts().plot(kind = 'bar')"
   ]
  },
  {
   "cell_type": "code",
   "execution_count": 23,
   "id": "e934d48e",
   "metadata": {},
   "outputs": [
    {
     "data": {
      "text/plain": [
       "Credit Rating  Seven Years\n",
       "0.0            0.0            450\n",
       "               1.0            111\n",
       "1.0            0.0            209\n",
       "               1.0             30\n",
       "Name: Seven Years, dtype: int64"
      ]
     },
     "execution_count": 23,
     "metadata": {},
     "output_type": "execute_result"
    }
   ],
   "source": [
    "data.groupby('Credit Rating')['Seven Years'].value_counts()\n"
   ]
  },
  {
   "cell_type": "code",
   "execution_count": 24,
   "id": "3ac962bd",
   "metadata": {},
   "outputs": [
    {
     "data": {
      "text/plain": [
       "<AxesSubplot:title={'center':'Credit rating with installment rate'}, xlabel='Credit Rating,Install_rate', ylabel='frequency'>"
      ]
     },
     "execution_count": 24,
     "metadata": {},
     "output_type": "execute_result"
    },
    {
     "data": {
      "image/png": "[encoded data removed]",
      "text/plain": [
       "<Figure size 432x288 with 1 Axes>"
      ]
     },
     "metadata": {
      "needs_background": "light"
     },
     "output_type": "display_data"
    }
   ],
   "source": [
    "plt.title('Credit rating with installment rate', fontsize=10, y=1.015,fontweight='semibold')\n",
    "plt.ylabel('frequency', labelpad=16)\n",
    "data.groupby('Credit Rating')['Install_rate'].value_counts().plot(kind = 'bar')"
   ]
  },
  {
   "cell_type": "code",
   "execution_count": 25,
   "id": "61a5887c",
   "metadata": {},
   "outputs": [
    {
     "data": {
      "text/plain": [
       "Credit Rating  Install_rate\n",
       "0.0            4.0             251\n",
       "               2.0             140\n",
       "               3.0              86\n",
       "               1.0              84\n",
       "1.0            4.0             132\n",
       "               2.0              44\n",
       "               3.0              34\n",
       "               1.0              29\n",
       "Name: Install_rate, dtype: int64"
      ]
     },
     "execution_count": 25,
     "metadata": {},
     "output_type": "execute_result"
    }
   ],
   "source": [
    "data.groupby('Credit Rating')['Install_rate'].value_counts()\n"
   ]
  },
  {
   "cell_type": "code",
   "execution_count": 26,
   "id": "ff81361d",
   "metadata": {},
   "outputs": [
    {
     "data": {
      "text/plain": [
       "<AxesSubplot:xlabel='Credit Rating,Marital Status -SM'>"
      ]
     },
     "execution_count": 26,
     "metadata": {},
     "output_type": "execute_result"
    },
    {
     "data": {
      "image/png": "[encoded data removed]",
      "text/plain": [
       "<Figure size 432x288 with 1 Axes>"
      ]
     },
     "metadata": {
      "needs_background": "light"
     },
     "output_type": "display_data"
    }
   ],
   "source": [
    "data.groupby('Credit Rating')['Marital Status -SM'].value_counts().plot(kind = 'bar')\n"
   ]
  },
  {
   "cell_type": "code",
   "execution_count": 27,
   "id": "570e0f40",
   "metadata": {},
   "outputs": [
    {
     "data": {
      "text/plain": [
       "Credit Rating  Marital Status -SM\n",
       "0.0            1.0                   328\n",
       "               0.0                   233\n",
       "1.0            0.0                   130\n",
       "               1.0                   109\n",
       "Name: Marital Status -SM, dtype: int64"
      ]
     },
     "execution_count": 27,
     "metadata": {},
     "output_type": "execute_result"
    }
   ],
   "source": [
    "data.groupby('Credit Rating')['Marital Status -SM'].value_counts()\n"
   ]
  },
  {
   "cell_type": "code",
   "execution_count": 28,
   "id": "f7ea4035",
   "metadata": {},
   "outputs": [
    {
     "data": {
      "text/plain": [
       "<AxesSubplot:xlabel='Credit Rating,Other installment'>"
      ]
     },
     "execution_count": 28,
     "metadata": {},
     "output_type": "execute_result"
    },
    {
     "data": {
      "image/png": "[encoded data removed]",
      "text/plain": [
       "<Figure size 432x288 with 1 Axes>"
      ]
     },
     "metadata": {
      "needs_background": "light"
     },
     "output_type": "display_data"
    }
   ],
   "source": [
    "data.groupby('Credit Rating')['Other installment'].value_counts().plot(kind = 'bar')\n"
   ]
  },
  {
   "cell_type": "markdown",
   "id": "0bc8aad3",
   "metadata": {},
   "source": [
    "Based on the above EDA and analysis using the confusion matrix, we have arrived at most suitable variables for making the model in logistic regression. Those independent variables are 'critical','Other installment','Marital Status -SM','Install_rate','Seven Years','less than 100','Duration'"
   ]
  },
  {
   "cell_type": "markdown",
   "id": "e41834a4",
   "metadata": {},
   "source": [
    "Splitting the data into Dependent and Independent variables\n"
   ]
  },
  {
   "cell_type": "code",
   "execution_count": 29,
   "id": "08497397",
   "metadata": {},
   "outputs": [],
   "source": [
    "X = data[['critical','Other installment','Marital Status -SM','Install_rate','Seven Years','less than 100','Duration']]\n"
   ]
  },
  {
   "cell_type": "code",
   "execution_count": 30,
   "id": "1cf7e0df",
   "metadata": {},
   "outputs": [],
   "source": [
    "Y = data['Credit Rating']\n"
   ]
  },
  {
   "cell_type": "code",
   "execution_count": 31,
   "id": "95f17918",
   "metadata": {},
   "outputs": [],
   "source": [
    "from sklearn.model_selection import train_test_split\n",
    "\n",
    "X_train, X_test, y_train, y_test = train_test_split(X, Y, test_size = 0.2, random_state = 42)"
   ]
  },
  {
   "cell_type": "code",
   "execution_count": 66,
   "id": "12f2acbe",
   "metadata": {},
   "outputs": [
    {
     "name": "stdout",
     "output_type": "stream",
     "text": [
      "                Results: Generalized linear model\n",
      "==================================================================\n",
      "Model:               GLM               AIC:             724.6292  \n",
      "Link Function:       Logit             BIC:             -3375.0187\n",
      "Dependent Variable:  Credit Rating     Log-Likelihood:  -354.31   \n",
      "Date:                2023-10-03 18:22  LL-Null:         -396.70   \n",
      "No. Observations:    640               Deviance:        708.63    \n",
      "Df Model:            7                 Pearson chi2:    637.      \n",
      "Df Residuals:        632               Scale:           1.0000    \n",
      "Method:              IRLS                                         \n",
      "------------------------------------------------------------------\n",
      "                    Coef.  Std.Err.    z    P>|z|   [0.025  0.975]\n",
      "------------------------------------------------------------------\n",
      "const              -2.1964   0.3574 -6.1447 0.0000 -2.8970 -1.4958\n",
      "critical           -0.8871   0.2220 -3.9958 0.0001 -1.3222 -0.4520\n",
      "Other installment   0.4344   0.2264  1.9189 0.0550 -0.0093  0.8781\n",
      "Marital Status -SM -0.6550   0.1896 -3.4546 0.0006 -1.0267 -0.2834\n",
      "Install_rate        0.1850   0.0836  2.2128 0.0269  0.0211  0.3489\n",
      "Seven Years        -0.4423   0.2590 -1.7075 0.0877 -0.9500  0.0654\n",
      "less than 100       0.7176   0.1959  3.6631 0.0002  0.3337  1.1016\n",
      "Duration            0.0429   0.0076  5.6295 0.0000  0.0280  0.0578\n",
      "==================================================================\n",
      "\n"
     ]
    }
   ],
   "source": [
    "import statsmodels.api as sm\n",
    "\n",
    "# Adding constant to the training data\n",
    "X_train_const = sm.add_constant(X_train)\n",
    "\n",
    "# Initializing and fitting the logistic regression model\n",
    "lg_reg_model = sm.GLM(y_train, X_train_const, family=sm.families.Binomial()).fit()\n",
    "\n",
    "# Display the model summary\n",
    "print(lg_reg_model.summary2())\n"
   ]
  },
  {
   "cell_type": "code",
   "execution_count": 67,
   "id": "b624071c",
   "metadata": {},
   "outputs": [],
   "source": [
    "# Adding constant to the test data\n",
    "X_test_const = sm.add_constant(X_test)\n",
    "\n",
    "# Getting the predicted probabilities for the test set\n",
    "y_pred_prob = lg_reg_model.predict(X_test_const)\n"
   ]
  },
  {
   "cell_type": "markdown",
   "id": "60f83cc5",
   "metadata": {},
   "source": [
    "### Now we are finding the cutoff score using ROC curve or Youdens Index"
   ]
  },
  {
   "cell_type": "code",
   "execution_count": 68,
   "id": "73dc6ce9",
   "metadata": {},
   "outputs": [
    {
     "name": "stdout",
     "output_type": "stream",
     "text": [
      "Best Threshold using Youden's Index: 0.3\n"
     ]
    }
   ],
   "source": [
    "from sklearn.metrics import confusion_matrix\n",
    "\n",
    "def sensitivity_specificity(y_true, y_pred_prob, threshold):\n",
    "    y_pred = (y_pred_prob > threshold).astype(int)\n",
    "    tn, fp, fn, tp = confusion_matrix(y_true, y_pred).ravel()\n",
    "    sensitivity = tp / (tp + fn)\n",
    "    specificity = tn / (tn + fp)\n",
    "    return sensitivity, specificity\n",
    "\n",
    "thresholds = [i/100 for i in range(100)]\n",
    "best_threshold = 0\n",
    "max_youden = 0\n",
    "\n",
    "for t in thresholds:\n",
    "    sens, spec = sensitivity_specificity(y_test, y_pred_prob, t)\n",
    "    youden_index = sens + spec - 1\n",
    "    if youden_index > max_youden:\n",
    "        max_youden = youden_index\n",
    "        best_threshold = t\n",
    "\n",
    "print(f\"Best Threshold using Youden's Index: {best_threshold}\")\n"
   ]
  },
  {
   "cell_type": "code",
   "execution_count": 69,
   "id": "ec9c4dfb",
   "metadata": {},
   "outputs": [
    {
     "name": "stdout",
     "output_type": "stream",
     "text": [
      "Model Accuracy: 66.88%\n"
     ]
    }
   ],
   "source": [
    "y_pred = (y_pred_prob > best_threshold).astype(int)\n",
    "from sklearn.metrics import accuracy_score\n",
    "\n",
    "accuracy = accuracy_score(y_test, y_pred)\n",
    "print(f\"Model Accuracy: {accuracy * 100:.2f}%\")\n"
   ]
  },
  {
   "cell_type": "code",
   "execution_count": 70,
   "id": "addde502",
   "metadata": {},
   "outputs": [
    {
     "name": "stdout",
     "output_type": "stream",
     "text": [
      "Confusion Matrix:\n",
      "[[79 41]\n",
      " [12 28]]\n"
     ]
    }
   ],
   "source": [
    "from sklearn.metrics import confusion_matrix\n",
    "\n",
    "# Predicted classes based on the best threshold\n",
    "y_pred = (y_pred_prob > best_threshold).astype(int)\n",
    "\n",
    "# Confusion matrix\n",
    "cm = confusion_matrix(y_test, y_pred)\n",
    "tn, fp, fn, tp = cm.ravel()\n",
    "\n",
    "print(\"Confusion Matrix:\")\n",
    "print(cm)\n"
   ]
  },
  {
   "cell_type": "markdown",
   "id": "55f48a9b",
   "metadata": {},
   "source": [
    "### Now we have an accuracy of 66% and to reduce the false positive value we can use cost based cutoff method to find the cut off value to get a better cutoff to penalize the false positve and improve the accuracy"
   ]
  },
  {
   "cell_type": "markdown",
   "id": "7624375a",
   "metadata": {},
   "source": [
    "---------------------------------------------------------------------------------"
   ]
  },
  {
   "cell_type": "code",
   "execution_count": 75,
   "id": "bca5d76d",
   "metadata": {},
   "outputs": [],
   "source": [
    "def calculate_cost(threshold, y_true, y_pred_prob, c01, c10):\n",
    "    y_pred = (y_pred_prob > threshold).astype(int)\n",
    "    tn, fp, fn, tp = confusion_matrix(y_true, y_pred).ravel()\n",
    "    \n",
    "    p01 = fp / (fp + tn)  # False Positive Rate\n",
    "    p10 = fn / (fn + tp)  # False Negative Rate\n",
    "    \n",
    "    cost = c01 * p01 + c10 * p10\n",
    "    \n",
    "    return cost\n"
   ]
  },
  {
   "cell_type": "code",
   "execution_count": 76,
   "id": "5bf4384c",
   "metadata": {},
   "outputs": [
    {
     "name": "stdout",
     "output_type": "stream",
     "text": [
      "Best Threshold using Cost: 0.46\n"
     ]
    }
   ],
   "source": [
    "thresholds = [i/100 for i in range(100)]\n",
    "c01 = 2\n",
    "c10 = 1\n",
    "min_cost = float('inf')\n",
    "best_cost_threshold = 0\n",
    "\n",
    "for t in thresholds:\n",
    "    cost = calculate_cost(t, y_test, y_pred_prob, c01, c10)\n",
    "    if cost < min_cost:\n",
    "        min_cost = cost\n",
    "        best_cost_threshold = t\n",
    "\n",
    "print(f\"Best Threshold using Cost: {best_cost_threshold}\")\n"
   ]
  },
  {
   "cell_type": "code",
   "execution_count": 83,
   "id": "d8780489",
   "metadata": {},
   "outputs": [
    {
     "name": "stdout",
     "output_type": "stream",
     "text": [
      "Confusion Matrix for Cost-based Threshold:\n",
      "[[112   8]\n",
      " [ 25  15]]\n"
     ]
    }
   ],
   "source": [
    "# Predicted classes based on the best cost-based threshold\n",
    "y_pred_cost = (y_pred_prob > best_cost_threshold).astype(int)\n",
    "\n",
    "# Confusion matrix for cost-based threshold\n",
    "cm_cost = confusion_matrix(y_test, y_pred_cost)\n",
    "print(\"Confusion Matrix for Cost-based Threshold:\")\n",
    "print(cm_cost)"
   ]
  },
  {
   "cell_type": "code",
   "execution_count": 84,
   "id": "37c798b8",
   "metadata": {},
   "outputs": [
    {
     "name": "stdout",
     "output_type": "stream",
     "text": [
      "Sensitivity (Recall): 0.38\n",
      "Specificity: 0.93\n",
      "Precision: 0.65\n",
      "Accuracy: 0.79\n"
     ]
    }
   ],
   "source": [
    "# Calculating other metrics for the cost-based threshold\n",
    "tn, fp, fn, tp = cm_cost.ravel()\n",
    "\n",
    "sensitivity = tp / (tp + fn)\n",
    "print(f\"Sensitivity (Recall): {sensitivity:.2f}\")\n",
    "\n",
    "specificity = tn / (tn + fp)\n",
    "print(f\"Specificity: {specificity:.2f}\")\n",
    "\n",
    "precision = tp / (tp + fp)\n",
    "print(f\"Precision: {precision:.2f}\")\n",
    "\n",
    "accuracy = (tp + tn) / (tp + tn + fp + fn)\n",
    "print(f\"Accuracy: {accuracy:.2f}\")\n"
   ]
  },
  {
   "cell_type": "markdown",
   "id": "6a9b54aa",
   "metadata": {},
   "source": [
    "Now the false positive value changed from 41 to 8, which is a very necessary for this particular business and also the acuuracy also increased from 66% to 79%. Thus we created a better model for this business problem to find out the defaulters."
   ]
  },
  {
   "cell_type": "markdown",
   "id": "4fa9ae50",
   "metadata": {},
   "source": [
    "### SUMMARY \n",
    "\n",
    "\n",
    "The dataset is based to find the credit card defaulters. After doing proper EDA we were able to find the most suitable variables to construct the model.\n",
    "\n",
    "We constructed the logistic regression model and found out the threshold value with respect to ROC curve. Here the model was around 66% acuurate having moderate sensitivity and specificity. Now, the model performance can be improved by introducing cost based cutoff. This will penalize the type 1 error and thus we will find out the cutoff value comparitively differnt from the value we got from ROC curve. \n",
    "\n",
    "Now after the implementation of cost based cutoff, the accuracy improved to 79 %. Here the threshold value is 0.46, but 0.30 was suggested from ROC curve. Also, we can see huge improvement in specificity and precision of the model.\n",
    "\n",
    "Overall the model performs much better as the type 1 and type 2 errors also reduced, which is very important for the business."
   ]
  },
  {
   "cell_type": "code",
   "execution_count": null,
   "id": "c2c61e7f",
   "metadata": {},
   "outputs": [],
   "source": []
  }
 ],
 "metadata": {
  "kernelspec": {
   "display_name": "Python 3 (ipykernel)",
   "language": "python",
   "name": "python3"
  },
  "language_info": {
   "codemirror_mode": {
    "name": "ipython",
    "version": 3
   },
   "file_extension": ".py",
   "mimetype": "text/x-python",
   "name": "python",
   "nbconvert_exporter": "python",
   "pygments_lexer": "ipython3",
   "version": "3.9.12"
  }
 },
 "nbformat": 4,
 "nbformat_minor": 5
}
